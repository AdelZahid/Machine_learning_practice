{
 "cells": [
  {
   "cell_type": "code",
   "execution_count": 1,
   "id": "dc90a2d1",
   "metadata": {},
   "outputs": [
    {
     "name": "stdout",
     "output_type": "stream",
     "text": [
      "[[0 0]\n",
      " [0 1]\n",
      " [1 0]\n",
      " [1 1]]\n",
      "[0 1 1 1]\n",
      "[0, 1, 1, 1]\n"
     ]
    }
   ],
   "source": [
    "import numpy as np\n",
    "x=np.array([[0,0],[0,1],[1,0],[1,1]])\n",
    "y=np.array([0,1,1,1])\n",
    "print(x)\n",
    "print(y)\n",
    "w=np.array([1,1])\n",
    "b= -0.5\n",
    "pred=[]\n",
    "\n",
    "\n",
    "def activation(z):\n",
    "    if z>=0:\n",
    "        return 1\n",
    "    else:\n",
    "        return 0\n",
    "\n",
    "\n",
    "for a in x:\n",
    "    y_hat=np.dot(a,w)+b\n",
    "    pred.append(activation(y_hat))\n",
    "    \n",
    "\n",
    "print(pred)"
   ]
  },
  {
   "cell_type": "code",
   "execution_count": null,
   "id": "50022b16",
   "metadata": {},
   "outputs": [],
   "source": [
    "import math\n",
    "epochs=100\n",
    "alpha=0.2\n"
   ]
  }
 ],
 "metadata": {
  "kernelspec": {
   "display_name": "base",
   "language": "python",
   "name": "python3"
  },
  "language_info": {
   "codemirror_mode": {
    "name": "ipython",
    "version": 3
   },
   "file_extension": ".py",
   "mimetype": "text/x-python",
   "name": "python",
   "nbconvert_exporter": "python",
   "pygments_lexer": "ipython3",
   "version": "3.12.7"
  }
 },
 "nbformat": 4,
 "nbformat_minor": 5
}
