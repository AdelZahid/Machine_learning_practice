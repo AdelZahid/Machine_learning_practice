{
 "cells": [
  {
   "cell_type": "markdown",
   "metadata": {},
   "source": [
    "Pandas Using in Python\n",
    "Pandas is a powerful library in Python that provides data structures and functions to efficiently handle structured data,"
   ]
  },
  {
   "cell_type": "code",
   "execution_count": 1,
   "metadata": {},
   "outputs": [
    {
     "name": "stdout",
     "output_type": "stream",
     "text": [
      "    Name  Age     Address\n",
      "0    Tom   20       Dhaka\n",
      "1   nick   21    Rajshahi\n",
      "2  krish   19      Khulna\n",
      "3   jack   18    Barishal\n",
      "4  hasan   22  Chittagong\n",
      "\n",
      "\n",
      "   Name  Age   Address\n",
      "0   Tom   20     Dhaka\n",
      "1  nick   21  Rajshahi\n",
      "\n",
      "\n",
      "    Name  Age     Address\n",
      "3   jack   18    Barishal\n",
      "4  hasan   22  Chittagong\n",
      "\n",
      "\n",
      "(5, 3)\n",
      "\n",
      "\n",
      "    Name  Age   Address\n",
      "1   nick   21  Rajshahi\n",
      "2  krish   19    Khulna\n"
     ]
    }
   ],
   "source": [
    "import pandas as pd \n",
    "import numpy as np\n",
    "\n",
    "data = {'Name': ['Tom', 'nick', 'krish', 'jack','hasan'],\n",
    "        'Age': [20, 21, 19, 18, 22],'Address': ['Dhaka', 'Rajshahi', 'Khulna', 'Barishal','Chittagong']}\n",
    "\n",
    "\n",
    "df = pd.DataFrame(data)\n",
    "print(df)\n",
    "print(\"\\n\")\n",
    "print(df.head(2))\n",
    "print(\"\\n\")\n",
    "print(df.tail(2))\n",
    "print(\"\\n\")\n",
    "print(df.shape)\n",
    "print(\"\\n\")\n",
    "print(df.iloc[1:3,0:3])\n",
    "df.to_csv('data.csv')"
   ]
  },
  {
   "cell_type": "code",
   "execution_count": 2,
   "metadata": {},
   "outputs": [
    {
     "name": "stdout",
     "output_type": "stream",
     "text": [
      "0     25230.10\n",
      "1     25187.50\n",
      "2     25113.70\n",
      "3     25153.55\n",
      "4     24704.55\n",
      "        ...   \n",
      "74    25501.30\n",
      "75    25477.90\n",
      "76    25383.00\n",
      "77    25373.60\n",
      "78    25427.35\n",
      "Name: High, Length: 79, dtype: float64\n"
     ]
    }
   ],
   "source": [
    "import pandas as pd\n",
    "import numpy as np\n",
    "\n",
    "df=pd.read_csv('C:/Users/adelz/Desktop/data.csv')\n",
    "df.head()\n",
    "print(df['High'])"
   ]
  },
  {
   "cell_type": "markdown",
   "metadata": {},
   "source": [
    "Dataframe Marging"
   ]
  },
  {
   "cell_type": "code",
   "execution_count": 3,
   "metadata": {},
   "outputs": [
    {
     "name": "stdout",
     "output_type": "stream",
     "text": [
      "   A  B   C\n",
      "0  1  5   9\n",
      "1  2  6  10\n",
      "2  3  7  11\n",
      "3  4  8  12\n",
      "\n",
      "\n",
      "    X   Y   Z\n",
      "0  13  17  21\n",
      "1  14  18  22\n",
      "2  15  19  23\n",
      "3  16  20  24\n",
      "\n",
      "\n",
      "   A  B   C   X   Y   Z\n",
      "0  1  5   9  13  17  21\n",
      "1  2  6  10  14  18  22\n",
      "2  3  7  11  15  19  23\n",
      "3  4  8  12  16  20  24\n",
      "\n",
      "\n",
      "   A  B   C   X   Y   Z\n",
      "0  1  5   9  13  17  21\n",
      "1  2  6  10  14  18  22\n",
      "2  3  7  11  15  19  23\n",
      "3  4  8  12  16  20  24\n"
     ]
    }
   ],
   "source": [
    "import pandas as pd\n",
    "import numpy as np\n",
    "\n",
    "df1=pd.DataFrame({'A':[1,2,3,4],'B':[5,6,7,8],'C':[9,10,11,12]})\n",
    "df2=pd.DataFrame({'X':[13,14,15,16],'Y':[17,18,19,20],'Z':[21,22,23,24]})\n",
    "print(df1)\n",
    "print(\"\\n\")\n",
    "print(df2)\n",
    "print(\"\\n\")\n",
    "df3=pd.concat([df1,df2],axis=1)\n",
    "print(df3)\n",
    "print(\"\\n\")\n",
    "df4=pd.merge(df1,df2,left_index=True,right_index=True)\n",
    "print(df4)"
   ]
  },
  {
   "cell_type": "markdown",
   "metadata": {},
   "source": [
    "Make graph-chart"
   ]
  },
  {
   "cell_type": "code",
   "execution_count": 4,
   "metadata": {},
   "outputs": [
    {
     "data": {
      "image/png": "[encoded data removed]",
      "text/plain": [
       "<Figure size 640x480 with 1 Axes>"
      ]
     },
     "metadata": {},
     "output_type": "display_data"
    }
   ],
   "source": [
    "%matplotlib inline\n",
    "import matplotlib.pyplot as plt\n",
    "x=[1,2,3,4,5]\n",
    "y=[10,20,30,40,50]\n",
    "x2=[2,4,6,8,10]\n",
    "y2=[5,10,15,20,25]\n",
    "plt.plot(x,y,label='First Line')\n",
    "plt.plot(x2,y2,label='Second Line')\n",
    "plt.legend()\n",
    "plt.title(\"Fuking rubbish\")\n",
    "plt.xlabel(\"X-axis\")\n",
    "plt.ylabel(\"Y-axis\")\n",
    "plt.show()\n",
    "\n"
   ]
  }
 ],
 "metadata": {
  "kernelspec": {
   "display_name": "base",
   "language": "python",
   "name": "python3"
  },
  "language_info": {
   "codemirror_mode": {
    "name": "ipython",
    "version": 3
   },
   "file_extension": ".py",
   "mimetype": "text/x-python",
   "name": "python",
   "nbconvert_exporter": "python",
   "pygments_lexer": "ipython3",
   "version": "3.12.7"
  }
 },
 "nbformat": 4,
 "nbformat_minor": 2
}
