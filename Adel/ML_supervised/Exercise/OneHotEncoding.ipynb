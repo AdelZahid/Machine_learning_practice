{
 "cells": [
  {
   "cell_type": "markdown",
   "id": "e043fc05",
   "metadata": {},
   "source": [
    "Dummy variables tecqunicque to predict the price of different model car"
   ]
  },
  {
   "cell_type": "code",
   "execution_count": 89,
   "id": "8c3aaf71",
   "metadata": {},
   "outputs": [
    {
     "data": {
      "application/vnd.microsoft.datawrangler.viewer.v0+json": {
       "columns": [
        {
         "name": "index",
         "rawType": "int64",
         "type": "integer"
        },
        {
         "name": "Car Model",
         "rawType": "object",
         "type": "string"
        },
        {
         "name": "Mileage",
         "rawType": "int64",
         "type": "integer"
        },
        {
         "name": "Sell Price($)",
         "rawType": "int64",
         "type": "integer"
        },
        {
         "name": "Age(yrs)",
         "rawType": "int64",
         "type": "integer"
        }
       ],
       "ref": "55c3bbb2-c4d0-4d4f-95be-fbdbe90fea8b",
       "rows": [
        [
         "0",
         "BMW X5",
         "69000",
         "18000",
         "6"
        ],
        [
         "1",
         "BMW X5",
         "35000",
         "34000",
         "3"
        ],
        [
         "2",
         "BMW X5",
         "57000",
         "26100",
         "5"
        ],
        [
         "3",
         "BMW X5",
         "22500",
         "40000",
         "2"
        ],
        [
         "4",
         "BMW X5",
         "46000",
         "31500",
         "4"
        ],
        [
         "5",
         "Audi A5",
         "59000",
         "29400",
         "5"
        ],
        [
         "6",
         "Audi A5",
         "52000",
         "32000",
         "5"
        ],
        [
         "7",
         "Audi A5",
         "72000",
         "19300",
         "6"
        ],
        [
         "8",
         "Audi A5",
         "91000",
         "12000",
         "8"
        ],
        [
         "9",
         "Mercedez Benz C class",
         "67000",
         "22000",
         "6"
        ],
        [
         "10",
         "Mercedez Benz C class",
         "83000",
         "20000",
         "7"
        ],
        [
         "11",
         "Mercedez Benz C class",
         "79000",
         "21000",
         "7"
        ],
        [
         "12",
         "Mercedez Benz C class",
         "59000",
         "33000",
         "5"
        ]
       ],
       "shape": {
        "columns": 4,
        "rows": 13
       }
      },
      "text/html": [
       "<div>\n",
       "<style scoped>\n",
       "    .dataframe tbody tr th:only-of-type {\n",
       "        vertical-align: middle;\n",
       "    }\n",
       "\n",
       "    .dataframe tbody tr th {\n",
       "        vertical-align: top;\n",
       "    }\n",
       "\n",
       "    .dataframe thead th {\n",
       "        text-align: right;\n",
       "    }\n",
       "</style>\n",
       "<table border=\"1\" class=\"dataframe\">\n",
       "  <thead>\n",
       "    <tr style=\"text-align: right;\">\n",
       "      <th></th>\n",
       "      <th>Car Model</th>\n",
       "      <th>Mileage</th>\n",
       "      <th>Sell Price($)</th>\n",
       "      <th>Age(yrs)</th>\n",
       "    </tr>\n",
       "  </thead>\n",
       "  <tbody>\n",
       "    <tr>\n",
       "      <th>0</th>\n",
       "      <td>BMW X5</td>\n",
       "      <td>69000</td>\n",
       "      <td>18000</td>\n",
       "      <td>6</td>\n",
       "    </tr>\n",
       "    <tr>\n",
       "      <th>1</th>\n",
       "      <td>BMW X5</td>\n",
       "      <td>35000</td>\n",
       "      <td>34000</td>\n",
       "      <td>3</td>\n",
       "    </tr>\n",
       "    <tr>\n",
       "      <th>2</th>\n",
       "      <td>BMW X5</td>\n",
       "      <td>57000</td>\n",
       "      <td>26100</td>\n",
       "      <td>5</td>\n",
       "    </tr>\n",
       "    <tr>\n",
       "      <th>3</th>\n",
       "      <td>BMW X5</td>\n",
       "      <td>22500</td>\n",
       "      <td>40000</td>\n",
       "      <td>2</td>\n",
       "    </tr>\n",
       "    <tr>\n",
       "      <th>4</th>\n",
       "      <td>BMW X5</td>\n",
       "      <td>46000</td>\n",
       "      <td>31500</td>\n",
       "      <td>4</td>\n",
       "    </tr>\n",
       "    <tr>\n",
       "      <th>5</th>\n",
       "      <td>Audi A5</td>\n",
       "      <td>59000</td>\n",
       "      <td>29400</td>\n",
       "      <td>5</td>\n",
       "    </tr>\n",
       "    <tr>\n",
       "      <th>6</th>\n",
       "      <td>Audi A5</td>\n",
       "      <td>52000</td>\n",
       "      <td>32000</td>\n",
       "      <td>5</td>\n",
       "    </tr>\n",
       "    <tr>\n",
       "      <th>7</th>\n",
       "      <td>Audi A5</td>\n",
       "      <td>72000</td>\n",
       "      <td>19300</td>\n",
       "      <td>6</td>\n",
       "    </tr>\n",
       "    <tr>\n",
       "      <th>8</th>\n",
       "      <td>Audi A5</td>\n",
       "      <td>91000</td>\n",
       "      <td>12000</td>\n",
       "      <td>8</td>\n",
       "    </tr>\n",
       "    <tr>\n",
       "      <th>9</th>\n",
       "      <td>Mercedez Benz C class</td>\n",
       "      <td>67000</td>\n",
       "      <td>22000</td>\n",
       "      <td>6</td>\n",
       "    </tr>\n",
       "    <tr>\n",
       "      <th>10</th>\n",
       "      <td>Mercedez Benz C class</td>\n",
       "      <td>83000</td>\n",
       "      <td>20000</td>\n",
       "      <td>7</td>\n",
       "    </tr>\n",
       "    <tr>\n",
       "      <th>11</th>\n",
       "      <td>Mercedez Benz C class</td>\n",
       "      <td>79000</td>\n",
       "      <td>21000</td>\n",
       "      <td>7</td>\n",
       "    </tr>\n",
       "    <tr>\n",
       "      <th>12</th>\n",
       "      <td>Mercedez Benz C class</td>\n",
       "      <td>59000</td>\n",
       "      <td>33000</td>\n",
       "      <td>5</td>\n",
       "    </tr>\n",
       "  </tbody>\n",
       "</table>\n",
       "</div>"
      ],
      "text/plain": [
       "                Car Model  Mileage  Sell Price($)  Age(yrs)\n",
       "0                  BMW X5    69000          18000         6\n",
       "1                  BMW X5    35000          34000         3\n",
       "2                  BMW X5    57000          26100         5\n",
       "3                  BMW X5    22500          40000         2\n",
       "4                  BMW X5    46000          31500         4\n",
       "5                 Audi A5    59000          29400         5\n",
       "6                 Audi A5    52000          32000         5\n",
       "7                 Audi A5    72000          19300         6\n",
       "8                 Audi A5    91000          12000         8\n",
       "9   Mercedez Benz C class    67000          22000         6\n",
       "10  Mercedez Benz C class    83000          20000         7\n",
       "11  Mercedez Benz C class    79000          21000         7\n",
       "12  Mercedez Benz C class    59000          33000         5"
      ]
     },
     "execution_count": 89,
     "metadata": {},
     "output_type": "execute_result"
    }
   ],
   "source": [
    "import pandas as pd\n",
    "import numpy as np\n",
    "df=pd.read_csv('carprices.csv')\n",
    "df"
   ]
  },
  {
   "cell_type": "markdown",
   "id": "a3f0edb6",
   "metadata": {},
   "source": [
    "first try to understand which model i can apply by viewing the scatterplot for every feature"
   ]
  },
  {
   "cell_type": "code",
   "execution_count": 90,
   "id": "14cd25b0",
   "metadata": {},
   "outputs": [
    {
     "name": "stderr",
     "output_type": "stream",
     "text": [
      "C:\\Users\\adelz\\AppData\\Local\\Temp\\ipykernel_25484\\2555279723.py:16: MatplotlibDeprecationWarning: The get_cmap function was deprecated in Matplotlib 3.7 and will be removed in 3.11. Use ``matplotlib.colormaps[name]`` or ``matplotlib.colormaps.get_cmap()`` or ``pyplot.get_cmap()`` instead.\n",
      "  colors = plt.cm.get_cmap('tab10')(range(len(car_models)))\n"
     ]
    },
    {
     "data": {
      "image/png": "[encoded data removed]",
      "text/plain": [
       "<Figure size 800x600 with 1 Axes>"
      ]
     },
     "metadata": {},
     "output_type": "display_data"
    },
    {
     "data": {
      "image/png": "[encoded data removed]",
      "text/plain": [
       "<Figure size 800x600 with 1 Axes>"
      ]
     },
     "metadata": {},
     "output_type": "display_data"
    }
   ],
   "source": [
    "import pandas as pd\n",
    "import matplotlib.pyplot as plt\n",
    "\n",
    "def plot_features_vs_price_by_model(csv_file):\n",
    "    # Read the CSV file\n",
    "    df = pd.read_csv(csv_file)\n",
    "    \n",
    "    # Define features to plot against Sell Price (excluding Car Model)\n",
    "    features = ['Mileage', 'Age(yrs)']\n",
    "    target = 'Sell Price($)'\n",
    "    \n",
    "    # Get unique car models\n",
    "    car_models = df['Car Model'].unique()\n",
    "    \n",
    "    # Define colors for different car models\n",
    "    colors = plt.cm.get_cmap('tab10')(range(len(car_models)))\n",
    "    \n",
    "    # Create scatter plots for each feature\n",
    "    for feature in features:\n",
    "        plt.figure(figsize=(8, 6))\n",
    "        for i, model in enumerate(car_models):\n",
    "            # Filter data for the current car model\n",
    "            model_data = df[df['Car Model'] == model]\n",
    "            plt.scatter(model_data[feature], model_data[target], \n",
    "                       c=[colors[i]], label=model, alpha=0.5)\n",
    "        \n",
    "        plt.xlabel(feature)\n",
    "        plt.ylabel('Sell Price ($)')\n",
    "        plt.title(f'{feature} vs Sell Price by Car Model')\n",
    "        plt.legend()\n",
    "        plt.grid(True)\n",
    "        plt.tight_layout()\n",
    "        plt.show()\n",
    "\n",
    "# Call the function with the CSV file\n",
    "plot_features_vs_price_by_model('carprices.csv')"
   ]
  },
  {
   "cell_type": "markdown",
   "id": "41d48175",
   "metadata": {},
   "source": [
    "Finding the corelation between the mileage and age(yrs)"
   ]
  },
  {
   "cell_type": "code",
   "execution_count": 91,
   "id": "ffb35185",
   "metadata": {},
   "outputs": [
    {
     "name": "stdout",
     "output_type": "stream",
     "text": [
      "Pearson correlation between Mileage and Age(yrs): 0.993\n"
     ]
    },
    {
     "name": "stderr",
     "output_type": "stream",
     "text": [
      "C:\\Users\\adelz\\AppData\\Local\\Temp\\ipykernel_25484\\40637365.py:20: MatplotlibDeprecationWarning: The get_cmap function was deprecated in Matplotlib 3.7 and will be removed in 3.11. Use ``matplotlib.colormaps[name]`` or ``matplotlib.colormaps.get_cmap()`` or ``pyplot.get_cmap()`` instead.\n",
      "  colors = plt.cm.get_cmap('tab10')(range(len(car_models)))\n"
     ]
    },
    {
     "data": {
      "image/png": "[encoded data removed]",
      "text/plain": [
       "<Figure size 800x600 with 1 Axes>"
      ]
     },
     "metadata": {},
     "output_type": "display_data"
    }
   ],
   "source": [
    "import pandas as pd\n",
    "import matplotlib.pyplot as plt\n",
    "\n",
    "def analyze_correlation_and_plot(csv_file):\n",
    "    # Read the CSV file\n",
    "    df = pd.read_csv(csv_file)\n",
    "    \n",
    "    # Calculate Pearson correlation between Mileage and Age(yrs)\n",
    "    correlation = df['Mileage'].corr(df['Age(yrs)'])\n",
    "    print(f\"Pearson correlation between Mileage and Age(yrs): {correlation:.3f}\")\n",
    "    \n",
    "    # Define features to plot against Sell Price and for correlation\n",
    "    features = ['Mileage', 'Age(yrs)']\n",
    "    target = 'Sell Price($)'\n",
    "    \n",
    "    # Get unique car models\n",
    "    car_models = df['Car Model'].unique()\n",
    "    \n",
    "    # Define colors for different car models\n",
    "    colors = plt.cm.get_cmap('tab10')(range(len(car_models)))\n",
    "\n",
    "    # Create scatter plot for Mileage vs Age(yrs) to visualize correlation\n",
    "    plt.figure(figsize=(8, 6))\n",
    "    for i, model in enumerate(car_models):\n",
    "        model_data = df[df['Car Model'] == model]\n",
    "        plt.scatter(model_data['Mileage'], model_data['Age(yrs)'], \n",
    "        c=[colors[i]], label=model, alpha=0.5)\n",
    "    \n",
    "    plt.xlabel('Mileage')\n",
    "    plt.ylabel('Age(yrs)')\n",
    "    plt.title('Mileage vs Age(yrs) by Car Model')\n",
    "    plt.legend()\n",
    "    plt.grid(True)\n",
    "    plt.tight_layout()\n",
    "    plt.show()\n",
    "\n",
    "# Call the function with the CSV file\n",
    "analyze_correlation_and_plot('carprices.csv')"
   ]
  },
  {
   "cell_type": "markdown",
   "id": "6ef425b3",
   "metadata": {},
   "source": [
    "Merge the corelation"
   ]
  },
  {
   "cell_type": "code",
   "execution_count": 92,
   "id": "e9d176ba",
   "metadata": {},
   "outputs": [
    {
     "name": "stdout",
     "output_type": "stream",
     "text": [
      "Pearson correlation between Mileage and Age(yrs): 0.993\n"
     ]
    },
    {
     "data": {
      "application/vnd.microsoft.datawrangler.viewer.v0+json": {
       "columns": [
        {
         "name": "index",
         "rawType": "int64",
         "type": "integer"
        },
        {
         "name": "Car Model",
         "rawType": "object",
         "type": "string"
        },
        {
         "name": "Mileage",
         "rawType": "int64",
         "type": "integer"
        },
        {
         "name": "Sell Price($)",
         "rawType": "int64",
         "type": "integer"
        },
        {
         "name": "Age(yrs)",
         "rawType": "int64",
         "type": "integer"
        },
        {
         "name": "Mileage_Age_Product",
         "rawType": "int64",
         "type": "integer"
        }
       ],
       "ref": "85142a6d-4b97-430b-9c6b-a8cc9f13d36d",
       "rows": [
        [
         "0",
         "BMW X5",
         "69000",
         "18000",
         "6",
         "414000"
        ],
        [
         "1",
         "BMW X5",
         "35000",
         "34000",
         "3",
         "105000"
        ],
        [
         "2",
         "BMW X5",
         "57000",
         "26100",
         "5",
         "285000"
        ],
        [
         "3",
         "BMW X5",
         "22500",
         "40000",
         "2",
         "45000"
        ],
        [
         "4",
         "BMW X5",
         "46000",
         "31500",
         "4",
         "184000"
        ],
        [
         "5",
         "Audi A5",
         "59000",
         "29400",
         "5",
         "295000"
        ],
        [
         "6",
         "Audi A5",
         "52000",
         "32000",
         "5",
         "260000"
        ],
        [
         "7",
         "Audi A5",
         "72000",
         "19300",
         "6",
         "432000"
        ],
        [
         "8",
         "Audi A5",
         "91000",
         "12000",
         "8",
         "728000"
        ],
        [
         "9",
         "Mercedez Benz C class",
         "67000",
         "22000",
         "6",
         "402000"
        ],
        [
         "10",
         "Mercedez Benz C class",
         "83000",
         "20000",
         "7",
         "581000"
        ],
        [
         "11",
         "Mercedez Benz C class",
         "79000",
         "21000",
         "7",
         "553000"
        ],
        [
         "12",
         "Mercedez Benz C class",
         "59000",
         "33000",
         "5",
         "295000"
        ]
       ],
       "shape": {
        "columns": 5,
        "rows": 13
       }
      },
      "text/html": [
       "<div>\n",
       "<style scoped>\n",
       "    .dataframe tbody tr th:only-of-type {\n",
       "        vertical-align: middle;\n",
       "    }\n",
       "\n",
       "    .dataframe tbody tr th {\n",
       "        vertical-align: top;\n",
       "    }\n",
       "\n",
       "    .dataframe thead th {\n",
       "        text-align: right;\n",
       "    }\n",
       "</style>\n",
       "<table border=\"1\" class=\"dataframe\">\n",
       "  <thead>\n",
       "    <tr style=\"text-align: right;\">\n",
       "      <th></th>\n",
       "      <th>Car Model</th>\n",
       "      <th>Mileage</th>\n",
       "      <th>Sell Price($)</th>\n",
       "      <th>Age(yrs)</th>\n",
       "      <th>Mileage_Age_Product</th>\n",
       "    </tr>\n",
       "  </thead>\n",
       "  <tbody>\n",
       "    <tr>\n",
       "      <th>0</th>\n",
       "      <td>BMW X5</td>\n",
       "      <td>69000</td>\n",
       "      <td>18000</td>\n",
       "      <td>6</td>\n",
       "      <td>414000</td>\n",
       "    </tr>\n",
       "    <tr>\n",
       "      <th>1</th>\n",
       "      <td>BMW X5</td>\n",
       "      <td>35000</td>\n",
       "      <td>34000</td>\n",
       "      <td>3</td>\n",
       "      <td>105000</td>\n",
       "    </tr>\n",
       "    <tr>\n",
       "      <th>2</th>\n",
       "      <td>BMW X5</td>\n",
       "      <td>57000</td>\n",
       "      <td>26100</td>\n",
       "      <td>5</td>\n",
       "      <td>285000</td>\n",
       "    </tr>\n",
       "    <tr>\n",
       "      <th>3</th>\n",
       "      <td>BMW X5</td>\n",
       "      <td>22500</td>\n",
       "      <td>40000</td>\n",
       "      <td>2</td>\n",
       "      <td>45000</td>\n",
       "    </tr>\n",
       "    <tr>\n",
       "      <th>4</th>\n",
       "      <td>BMW X5</td>\n",
       "      <td>46000</td>\n",
       "      <td>31500</td>\n",
       "      <td>4</td>\n",
       "      <td>184000</td>\n",
       "    </tr>\n",
       "    <tr>\n",
       "      <th>5</th>\n",
       "      <td>Audi A5</td>\n",
       "      <td>59000</td>\n",
       "      <td>29400</td>\n",
       "      <td>5</td>\n",
       "      <td>295000</td>\n",
       "    </tr>\n",
       "    <tr>\n",
       "      <th>6</th>\n",
       "      <td>Audi A5</td>\n",
       "      <td>52000</td>\n",
       "      <td>32000</td>\n",
       "      <td>5</td>\n",
       "      <td>260000</td>\n",
       "    </tr>\n",
       "    <tr>\n",
       "      <th>7</th>\n",
       "      <td>Audi A5</td>\n",
       "      <td>72000</td>\n",
       "      <td>19300</td>\n",
       "      <td>6</td>\n",
       "      <td>432000</td>\n",
       "    </tr>\n",
       "    <tr>\n",
       "      <th>8</th>\n",
       "      <td>Audi A5</td>\n",
       "      <td>91000</td>\n",
       "      <td>12000</td>\n",
       "      <td>8</td>\n",
       "      <td>728000</td>\n",
       "    </tr>\n",
       "    <tr>\n",
       "      <th>9</th>\n",
       "      <td>Mercedez Benz C class</td>\n",
       "      <td>67000</td>\n",
       "      <td>22000</td>\n",
       "      <td>6</td>\n",
       "      <td>402000</td>\n",
       "    </tr>\n",
       "    <tr>\n",
       "      <th>10</th>\n",
       "      <td>Mercedez Benz C class</td>\n",
       "      <td>83000</td>\n",
       "      <td>20000</td>\n",
       "      <td>7</td>\n",
       "      <td>581000</td>\n",
       "    </tr>\n",
       "    <tr>\n",
       "      <th>11</th>\n",
       "      <td>Mercedez Benz C class</td>\n",
       "      <td>79000</td>\n",
       "      <td>21000</td>\n",
       "      <td>7</td>\n",
       "      <td>553000</td>\n",
       "    </tr>\n",
       "    <tr>\n",
       "      <th>12</th>\n",
       "      <td>Mercedez Benz C class</td>\n",
       "      <td>59000</td>\n",
       "      <td>33000</td>\n",
       "      <td>5</td>\n",
       "      <td>295000</td>\n",
       "    </tr>\n",
       "  </tbody>\n",
       "</table>\n",
       "</div>"
      ],
      "text/plain": [
       "                Car Model  Mileage  Sell Price($)  Age(yrs)  \\\n",
       "0                  BMW X5    69000          18000         6   \n",
       "1                  BMW X5    35000          34000         3   \n",
       "2                  BMW X5    57000          26100         5   \n",
       "3                  BMW X5    22500          40000         2   \n",
       "4                  BMW X5    46000          31500         4   \n",
       "5                 Audi A5    59000          29400         5   \n",
       "6                 Audi A5    52000          32000         5   \n",
       "7                 Audi A5    72000          19300         6   \n",
       "8                 Audi A5    91000          12000         8   \n",
       "9   Mercedez Benz C class    67000          22000         6   \n",
       "10  Mercedez Benz C class    83000          20000         7   \n",
       "11  Mercedez Benz C class    79000          21000         7   \n",
       "12  Mercedez Benz C class    59000          33000         5   \n",
       "\n",
       "    Mileage_Age_Product  \n",
       "0                414000  \n",
       "1                105000  \n",
       "2                285000  \n",
       "3                 45000  \n",
       "4                184000  \n",
       "5                295000  \n",
       "6                260000  \n",
       "7                432000  \n",
       "8                728000  \n",
       "9                402000  \n",
       "10               581000  \n",
       "11               553000  \n",
       "12               295000  "
      ]
     },
     "execution_count": 92,
     "metadata": {},
     "output_type": "execute_result"
    }
   ],
   "source": [
    "correlation = df['Mileage'].corr(df['Age(yrs)'])\n",
    "print(f\"Pearson correlation between Mileage and Age(yrs): {correlation:.3f}\")\n",
    "    \n",
    "# Create a new column: Mileage * Age(yrs) as a combined feature\n",
    "df['Mileage_Age_Product'] = df['Mileage'] * df['Age(yrs)']\n",
    "df"
   ]
  },
  {
   "cell_type": "code",
   "execution_count": 93,
   "id": "63427489",
   "metadata": {},
   "outputs": [
    {
     "name": "stderr",
     "output_type": "stream",
     "text": [
      "C:\\Users\\adelz\\AppData\\Local\\Temp\\ipykernel_25484\\754327367.py:19: MatplotlibDeprecationWarning: The get_cmap function was deprecated in Matplotlib 3.7 and will be removed in 3.11. Use ``matplotlib.colormaps[name]`` or ``matplotlib.colormaps.get_cmap()`` or ``pyplot.get_cmap()`` instead.\n",
      "  colors = plt.cm.get_cmap('tab10')(range(len(car_models)))\n"
     ]
    },
    {
     "data": {
      "image/png": "[encoded data removed]",
      "text/plain": [
       "<Figure size 800x600 with 1 Axes>"
      ]
     },
     "metadata": {},
     "output_type": "display_data"
    }
   ],
   "source": [
    "import pandas as pd\n",
    "import matplotlib.pyplot as plt\n",
    "\n",
    "def plot_price_vs_mileage_age_product(csv_file):\n",
    "    # Read the CSV file\n",
    "    df = pd.read_csv(csv_file)\n",
    "    \n",
    "    # Create the Mileage_Age_Product column\n",
    "    df['Mileage_Age_Product'] = df['Mileage'] * df['Age(yrs)']\n",
    "    \n",
    "    # Define the feature and target\n",
    "    feature = 'Mileage_Age_Product'\n",
    "    target = 'Sell Price($)'\n",
    "    \n",
    "    # Get unique car models\n",
    "    car_models = df['Car Model'].unique()\n",
    "    \n",
    "    # Define colors for different car models\n",
    "    colors = plt.cm.get_cmap('tab10')(range(len(car_models)))\n",
    "    \n",
    "    # Create scatter plot\n",
    "    plt.figure(figsize=(8, 6))\n",
    "    for i, model in enumerate(car_models):\n",
    "        model_data = df[df['Car Model'] == model]\n",
    "        plt.scatter(model_data[feature], model_data[target], \n",
    "                   c=[colors[i]], label=model, alpha=0.5)\n",
    "    \n",
    "    plt.xlabel('Mileage * Age (Mileage_Age_Product)')\n",
    "    plt.ylabel('Sell Price ($)')\n",
    "    plt.title('Sell Price vs Mileage_Age_Product by Car Model')\n",
    "    plt.legend()\n",
    "    plt.grid(True)\n",
    "    plt.tight_layout()\n",
    "    plt.show()\n",
    "\n",
    "# Call the function with the CSV file\n",
    "plot_price_vs_mileage_age_product('carprices.csv')"
   ]
  },
  {
   "cell_type": "code",
   "execution_count": 94,
   "id": "d1743ac3",
   "metadata": {},
   "outputs": [
    {
     "name": "stderr",
     "output_type": "stream",
     "text": [
      "C:\\Users\\adelz\\AppData\\Local\\Temp\\ipykernel_25484\\559086900.py:20: MatplotlibDeprecationWarning: The get_cmap function was deprecated in Matplotlib 3.7 and will be removed in 3.11. Use ``matplotlib.colormaps[name]`` or ``matplotlib.colormaps.get_cmap()`` or ``pyplot.get_cmap()`` instead.\n",
      "  colors = plt.cm.get_cmap('tab10')(range(len(car_models)))\n"
     ]
    },
    {
     "data": {
      "image/png": "[encoded data removed]",
      "text/plain": [
       "<Figure size 1000x600 with 1 Axes>"
      ]
     },
     "metadata": {},
     "output_type": "display_data"
    }
   ],
   "source": [
    "import pandas as pd\n",
    "import numpy as np\n",
    "import matplotlib.pyplot as plt\n",
    "\n",
    "def plot_price_vs_mileage_age_with_regression(csv_file):\n",
    "    # Read the CSV file\n",
    "    df = pd.read_csv(csv_file)\n",
    "    \n",
    "    # Create the Mileage_Age_Product column\n",
    "    df['Mileage_Age_Product'] = df['Mileage'] * df['Age(yrs)']\n",
    "    \n",
    "    # Define the feature and target\n",
    "    feature = 'Mileage_Age_Product'\n",
    "    target = 'Sell Price($)'\n",
    "    \n",
    "    # Get unique car models\n",
    "    car_models = df['Car Model'].unique()\n",
    "    \n",
    "    # Define colors for different car models\n",
    "    colors = plt.cm.get_cmap('tab10')(range(len(car_models)))\n",
    "    \n",
    "    # Create scatter plot\n",
    "    plt.figure(figsize=(10, 6))\n",
    "    for i, model in enumerate(car_models):\n",
    "        # Filter data for the current car model\n",
    "        model_data = df[df['Car Model'] == model]\n",
    "        x = model_data[feature]\n",
    "        y = model_data[target]\n",
    "        \n",
    "        # Scatter plot for the model\n",
    "        plt.scatter(x, y, c=[colors[i]], label=model, alpha=0.5)\n",
    "        \n",
    "        # Calculate linear regression\n",
    "        coeffs = np.polyfit(x, y, 1)  # Degree 1 for linear regression\n",
    "        slope, intercept = coeffs\n",
    "        regression_line = np.poly1d(coeffs)\n",
    "        \n",
    "        # Generate points for regression line\n",
    "        x_range = np.linspace(x.min(), x.max(), 100)\n",
    "        plt.plot(x_range, regression_line(x_range), color=colors[i], \n",
    "                 linestyle='--', label=f'{model} regression')\n",
    "    \n",
    "    plt.xlabel('Mileage * Age (Mileage_Age_Product)')\n",
    "    plt.ylabel('Sell Price ($)')\n",
    "    plt.title('Sell Price vs Mileage_Age_Product by Car Model with Linear Regression')\n",
    "    plt.legend()\n",
    "    plt.grid(True)\n",
    "    plt.tight_layout()\n",
    "    plt.show()\n",
    "\n",
    "# Call the function with the CSV file\n",
    "plot_price_vs_mileage_age_with_regression('carprices.csv')"
   ]
  },
  {
   "cell_type": "code",
   "execution_count": 95,
   "id": "6a9b397b",
   "metadata": {},
   "outputs": [
    {
     "data": {
      "application/vnd.microsoft.datawrangler.viewer.v0+json": {
       "columns": [
        {
         "name": "index",
         "rawType": "int64",
         "type": "integer"
        },
        {
         "name": "Audi A5",
         "rawType": "int32",
         "type": "integer"
        },
        {
         "name": "BMW X5",
         "rawType": "int32",
         "type": "integer"
        },
        {
         "name": "Mercedez Benz C class",
         "rawType": "int32",
         "type": "integer"
        }
       ],
       "ref": "3a75bf79-e924-4791-a6e3-3dd8d1ffc874",
       "rows": [
        [
         "0",
         "0",
         "1",
         "0"
        ],
        [
         "1",
         "0",
         "1",
         "0"
        ],
        [
         "2",
         "0",
         "1",
         "0"
        ],
        [
         "3",
         "0",
         "1",
         "0"
        ],
        [
         "4",
         "0",
         "1",
         "0"
        ],
        [
         "5",
         "1",
         "0",
         "0"
        ],
        [
         "6",
         "1",
         "0",
         "0"
        ],
        [
         "7",
         "1",
         "0",
         "0"
        ],
        [
         "8",
         "1",
         "0",
         "0"
        ],
        [
         "9",
         "0",
         "0",
         "1"
        ],
        [
         "10",
         "0",
         "0",
         "1"
        ],
        [
         "11",
         "0",
         "0",
         "1"
        ],
        [
         "12",
         "0",
         "0",
         "1"
        ]
       ],
       "shape": {
        "columns": 3,
        "rows": 13
       }
      },
      "text/html": [
       "<div>\n",
       "<style scoped>\n",
       "    .dataframe tbody tr th:only-of-type {\n",
       "        vertical-align: middle;\n",
       "    }\n",
       "\n",
       "    .dataframe tbody tr th {\n",
       "        vertical-align: top;\n",
       "    }\n",
       "\n",
       "    .dataframe thead th {\n",
       "        text-align: right;\n",
       "    }\n",
       "</style>\n",
       "<table border=\"1\" class=\"dataframe\">\n",
       "  <thead>\n",
       "    <tr style=\"text-align: right;\">\n",
       "      <th></th>\n",
       "      <th>Audi A5</th>\n",
       "      <th>BMW X5</th>\n",
       "      <th>Mercedez Benz C class</th>\n",
       "    </tr>\n",
       "  </thead>\n",
       "  <tbody>\n",
       "    <tr>\n",
       "      <th>0</th>\n",
       "      <td>0</td>\n",
       "      <td>1</td>\n",
       "      <td>0</td>\n",
       "    </tr>\n",
       "    <tr>\n",
       "      <th>1</th>\n",
       "      <td>0</td>\n",
       "      <td>1</td>\n",
       "      <td>0</td>\n",
       "    </tr>\n",
       "    <tr>\n",
       "      <th>2</th>\n",
       "      <td>0</td>\n",
       "      <td>1</td>\n",
       "      <td>0</td>\n",
       "    </tr>\n",
       "    <tr>\n",
       "      <th>3</th>\n",
       "      <td>0</td>\n",
       "      <td>1</td>\n",
       "      <td>0</td>\n",
       "    </tr>\n",
       "    <tr>\n",
       "      <th>4</th>\n",
       "      <td>0</td>\n",
       "      <td>1</td>\n",
       "      <td>0</td>\n",
       "    </tr>\n",
       "    <tr>\n",
       "      <th>5</th>\n",
       "      <td>1</td>\n",
       "      <td>0</td>\n",
       "      <td>0</td>\n",
       "    </tr>\n",
       "    <tr>\n",
       "      <th>6</th>\n",
       "      <td>1</td>\n",
       "      <td>0</td>\n",
       "      <td>0</td>\n",
       "    </tr>\n",
       "    <tr>\n",
       "      <th>7</th>\n",
       "      <td>1</td>\n",
       "      <td>0</td>\n",
       "      <td>0</td>\n",
       "    </tr>\n",
       "    <tr>\n",
       "      <th>8</th>\n",
       "      <td>1</td>\n",
       "      <td>0</td>\n",
       "      <td>0</td>\n",
       "    </tr>\n",
       "    <tr>\n",
       "      <th>9</th>\n",
       "      <td>0</td>\n",
       "      <td>0</td>\n",
       "      <td>1</td>\n",
       "    </tr>\n",
       "    <tr>\n",
       "      <th>10</th>\n",
       "      <td>0</td>\n",
       "      <td>0</td>\n",
       "      <td>1</td>\n",
       "    </tr>\n",
       "    <tr>\n",
       "      <th>11</th>\n",
       "      <td>0</td>\n",
       "      <td>0</td>\n",
       "      <td>1</td>\n",
       "    </tr>\n",
       "    <tr>\n",
       "      <th>12</th>\n",
       "      <td>0</td>\n",
       "      <td>0</td>\n",
       "      <td>1</td>\n",
       "    </tr>\n",
       "  </tbody>\n",
       "</table>\n",
       "</div>"
      ],
      "text/plain": [
       "    Audi A5  BMW X5  Mercedez Benz C class\n",
       "0         0       1                      0\n",
       "1         0       1                      0\n",
       "2         0       1                      0\n",
       "3         0       1                      0\n",
       "4         0       1                      0\n",
       "5         1       0                      0\n",
       "6         1       0                      0\n",
       "7         1       0                      0\n",
       "8         1       0                      0\n",
       "9         0       0                      1\n",
       "10        0       0                      1\n",
       "11        0       0                      1\n",
       "12        0       0                      1"
      ]
     },
     "execution_count": 95,
     "metadata": {},
     "output_type": "execute_result"
    }
   ],
   "source": [
    "dummies=pd.get_dummies(df['Car Model']).astype(int)\n",
    "dummies"
   ]
  },
  {
   "cell_type": "code",
   "execution_count": 96,
   "id": "ff275d82",
   "metadata": {},
   "outputs": [
    {
     "data": {
      "application/vnd.microsoft.datawrangler.viewer.v0+json": {
       "columns": [
        {
         "name": "index",
         "rawType": "int64",
         "type": "integer"
        },
        {
         "name": "Car Model",
         "rawType": "object",
         "type": "string"
        },
        {
         "name": "Mileage",
         "rawType": "int64",
         "type": "integer"
        },
        {
         "name": "Sell Price($)",
         "rawType": "int64",
         "type": "integer"
        },
        {
         "name": "Age(yrs)",
         "rawType": "int64",
         "type": "integer"
        },
        {
         "name": "Mileage_Age_Product",
         "rawType": "int64",
         "type": "integer"
        },
        {
         "name": "Audi A5",
         "rawType": "int32",
         "type": "integer"
        },
        {
         "name": "BMW X5",
         "rawType": "int32",
         "type": "integer"
        },
        {
         "name": "Mercedez Benz C class",
         "rawType": "int32",
         "type": "integer"
        }
       ],
       "ref": "34a7134b-6598-4d78-b745-7547ec92d9ed",
       "rows": [
        [
         "0",
         "BMW X5",
         "69000",
         "18000",
         "6",
         "414000",
         "0",
         "1",
         "0"
        ],
        [
         "1",
         "BMW X5",
         "35000",
         "34000",
         "3",
         "105000",
         "0",
         "1",
         "0"
        ],
        [
         "2",
         "BMW X5",
         "57000",
         "26100",
         "5",
         "285000",
         "0",
         "1",
         "0"
        ],
        [
         "3",
         "BMW X5",
         "22500",
         "40000",
         "2",
         "45000",
         "0",
         "1",
         "0"
        ],
        [
         "4",
         "BMW X5",
         "46000",
         "31500",
         "4",
         "184000",
         "0",
         "1",
         "0"
        ],
        [
         "5",
         "Audi A5",
         "59000",
         "29400",
         "5",
         "295000",
         "1",
         "0",
         "0"
        ],
        [
         "6",
         "Audi A5",
         "52000",
         "32000",
         "5",
         "260000",
         "1",
         "0",
         "0"
        ],
        [
         "7",
         "Audi A5",
         "72000",
         "19300",
         "6",
         "432000",
         "1",
         "0",
         "0"
        ],
        [
         "8",
         "Audi A5",
         "91000",
         "12000",
         "8",
         "728000",
         "1",
         "0",
         "0"
        ],
        [
         "9",
         "Mercedez Benz C class",
         "67000",
         "22000",
         "6",
         "402000",
         "0",
         "0",
         "1"
        ],
        [
         "10",
         "Mercedez Benz C class",
         "83000",
         "20000",
         "7",
         "581000",
         "0",
         "0",
         "1"
        ],
        [
         "11",
         "Mercedez Benz C class",
         "79000",
         "21000",
         "7",
         "553000",
         "0",
         "0",
         "1"
        ],
        [
         "12",
         "Mercedez Benz C class",
         "59000",
         "33000",
         "5",
         "295000",
         "0",
         "0",
         "1"
        ]
       ],
       "shape": {
        "columns": 8,
        "rows": 13
       }
      },
      "text/html": [
       "<div>\n",
       "<style scoped>\n",
       "    .dataframe tbody tr th:only-of-type {\n",
       "        vertical-align: middle;\n",
       "    }\n",
       "\n",
       "    .dataframe tbody tr th {\n",
       "        vertical-align: top;\n",
       "    }\n",
       "\n",
       "    .dataframe thead th {\n",
       "        text-align: right;\n",
       "    }\n",
       "</style>\n",
       "<table border=\"1\" class=\"dataframe\">\n",
       "  <thead>\n",
       "    <tr style=\"text-align: right;\">\n",
       "      <th></th>\n",
       "      <th>Car Model</th>\n",
       "      <th>Mileage</th>\n",
       "      <th>Sell Price($)</th>\n",
       "      <th>Age(yrs)</th>\n",
       "      <th>Mileage_Age_Product</th>\n",
       "      <th>Audi A5</th>\n",
       "      <th>BMW X5</th>\n",
       "      <th>Mercedez Benz C class</th>\n",
       "    </tr>\n",
       "  </thead>\n",
       "  <tbody>\n",
       "    <tr>\n",
       "      <th>0</th>\n",
       "      <td>BMW X5</td>\n",
       "      <td>69000</td>\n",
       "      <td>18000</td>\n",
       "      <td>6</td>\n",
       "      <td>414000</td>\n",
       "      <td>0</td>\n",
       "      <td>1</td>\n",
       "      <td>0</td>\n",
       "    </tr>\n",
       "    <tr>\n",
       "      <th>1</th>\n",
       "      <td>BMW X5</td>\n",
       "      <td>35000</td>\n",
       "      <td>34000</td>\n",
       "      <td>3</td>\n",
       "      <td>105000</td>\n",
       "      <td>0</td>\n",
       "      <td>1</td>\n",
       "      <td>0</td>\n",
       "    </tr>\n",
       "    <tr>\n",
       "      <th>2</th>\n",
       "      <td>BMW X5</td>\n",
       "      <td>57000</td>\n",
       "      <td>26100</td>\n",
       "      <td>5</td>\n",
       "      <td>285000</td>\n",
       "      <td>0</td>\n",
       "      <td>1</td>\n",
       "      <td>0</td>\n",
       "    </tr>\n",
       "    <tr>\n",
       "      <th>3</th>\n",
       "      <td>BMW X5</td>\n",
       "      <td>22500</td>\n",
       "      <td>40000</td>\n",
       "      <td>2</td>\n",
       "      <td>45000</td>\n",
       "      <td>0</td>\n",
       "      <td>1</td>\n",
       "      <td>0</td>\n",
       "    </tr>\n",
       "    <tr>\n",
       "      <th>4</th>\n",
       "      <td>BMW X5</td>\n",
       "      <td>46000</td>\n",
       "      <td>31500</td>\n",
       "      <td>4</td>\n",
       "      <td>184000</td>\n",
       "      <td>0</td>\n",
       "      <td>1</td>\n",
       "      <td>0</td>\n",
       "    </tr>\n",
       "    <tr>\n",
       "      <th>5</th>\n",
       "      <td>Audi A5</td>\n",
       "      <td>59000</td>\n",
       "      <td>29400</td>\n",
       "      <td>5</td>\n",
       "      <td>295000</td>\n",
       "      <td>1</td>\n",
       "      <td>0</td>\n",
       "      <td>0</td>\n",
       "    </tr>\n",
       "    <tr>\n",
       "      <th>6</th>\n",
       "      <td>Audi A5</td>\n",
       "      <td>52000</td>\n",
       "      <td>32000</td>\n",
       "      <td>5</td>\n",
       "      <td>260000</td>\n",
       "      <td>1</td>\n",
       "      <td>0</td>\n",
       "      <td>0</td>\n",
       "    </tr>\n",
       "    <tr>\n",
       "      <th>7</th>\n",
       "      <td>Audi A5</td>\n",
       "      <td>72000</td>\n",
       "      <td>19300</td>\n",
       "      <td>6</td>\n",
       "      <td>432000</td>\n",
       "      <td>1</td>\n",
       "      <td>0</td>\n",
       "      <td>0</td>\n",
       "    </tr>\n",
       "    <tr>\n",
       "      <th>8</th>\n",
       "      <td>Audi A5</td>\n",
       "      <td>91000</td>\n",
       "      <td>12000</td>\n",
       "      <td>8</td>\n",
       "      <td>728000</td>\n",
       "      <td>1</td>\n",
       "      <td>0</td>\n",
       "      <td>0</td>\n",
       "    </tr>\n",
       "    <tr>\n",
       "      <th>9</th>\n",
       "      <td>Mercedez Benz C class</td>\n",
       "      <td>67000</td>\n",
       "      <td>22000</td>\n",
       "      <td>6</td>\n",
       "      <td>402000</td>\n",
       "      <td>0</td>\n",
       "      <td>0</td>\n",
       "      <td>1</td>\n",
       "    </tr>\n",
       "    <tr>\n",
       "      <th>10</th>\n",
       "      <td>Mercedez Benz C class</td>\n",
       "      <td>83000</td>\n",
       "      <td>20000</td>\n",
       "      <td>7</td>\n",
       "      <td>581000</td>\n",
       "      <td>0</td>\n",
       "      <td>0</td>\n",
       "      <td>1</td>\n",
       "    </tr>\n",
       "    <tr>\n",
       "      <th>11</th>\n",
       "      <td>Mercedez Benz C class</td>\n",
       "      <td>79000</td>\n",
       "      <td>21000</td>\n",
       "      <td>7</td>\n",
       "      <td>553000</td>\n",
       "      <td>0</td>\n",
       "      <td>0</td>\n",
       "      <td>1</td>\n",
       "    </tr>\n",
       "    <tr>\n",
       "      <th>12</th>\n",
       "      <td>Mercedez Benz C class</td>\n",
       "      <td>59000</td>\n",
       "      <td>33000</td>\n",
       "      <td>5</td>\n",
       "      <td>295000</td>\n",
       "      <td>0</td>\n",
       "      <td>0</td>\n",
       "      <td>1</td>\n",
       "    </tr>\n",
       "  </tbody>\n",
       "</table>\n",
       "</div>"
      ],
      "text/plain": [
       "                Car Model  Mileage  Sell Price($)  Age(yrs)  \\\n",
       "0                  BMW X5    69000          18000         6   \n",
       "1                  BMW X5    35000          34000         3   \n",
       "2                  BMW X5    57000          26100         5   \n",
       "3                  BMW X5    22500          40000         2   \n",
       "4                  BMW X5    46000          31500         4   \n",
       "5                 Audi A5    59000          29400         5   \n",
       "6                 Audi A5    52000          32000         5   \n",
       "7                 Audi A5    72000          19300         6   \n",
       "8                 Audi A5    91000          12000         8   \n",
       "9   Mercedez Benz C class    67000          22000         6   \n",
       "10  Mercedez Benz C class    83000          20000         7   \n",
       "11  Mercedez Benz C class    79000          21000         7   \n",
       "12  Mercedez Benz C class    59000          33000         5   \n",
       "\n",
       "    Mileage_Age_Product  Audi A5  BMW X5  Mercedez Benz C class  \n",
       "0                414000        0       1                      0  \n",
       "1                105000        0       1                      0  \n",
       "2                285000        0       1                      0  \n",
       "3                 45000        0       1                      0  \n",
       "4                184000        0       1                      0  \n",
       "5                295000        1       0                      0  \n",
       "6                260000        1       0                      0  \n",
       "7                432000        1       0                      0  \n",
       "8                728000        1       0                      0  \n",
       "9                402000        0       0                      1  \n",
       "10               581000        0       0                      1  \n",
       "11               553000        0       0                      1  \n",
       "12               295000        0       0                      1  "
      ]
     },
     "execution_count": 96,
     "metadata": {},
     "output_type": "execute_result"
    }
   ],
   "source": [
    "df_dums=pd.concat([df,dummies],axis='columns')\n",
    "df=df_dums\n",
    "df"
   ]
  },
  {
   "cell_type": "code",
   "execution_count": 97,
   "id": "1c2bf1b7",
   "metadata": {},
   "outputs": [
    {
     "data": {
      "application/vnd.microsoft.datawrangler.viewer.v0+json": {
       "columns": [
        {
         "name": "index",
         "rawType": "int64",
         "type": "integer"
        },
        {
         "name": "Mileage",
         "rawType": "int64",
         "type": "integer"
        },
        {
         "name": "Sell Price($)",
         "rawType": "int64",
         "type": "integer"
        },
        {
         "name": "Age(yrs)",
         "rawType": "int64",
         "type": "integer"
        },
        {
         "name": "Audi A5",
         "rawType": "int32",
         "type": "integer"
        },
        {
         "name": "Mercedez Benz C class",
         "rawType": "int32",
         "type": "integer"
        }
       ],
       "ref": "f689c473-48a1-4d02-a42d-0a17aafe77a6",
       "rows": [
        [
         "0",
         "69000",
         "18000",
         "6",
         "0",
         "0"
        ],
        [
         "1",
         "35000",
         "34000",
         "3",
         "0",
         "0"
        ],
        [
         "2",
         "57000",
         "26100",
         "5",
         "0",
         "0"
        ],
        [
         "3",
         "22500",
         "40000",
         "2",
         "0",
         "0"
        ],
        [
         "4",
         "46000",
         "31500",
         "4",
         "0",
         "0"
        ],
        [
         "5",
         "59000",
         "29400",
         "5",
         "1",
         "0"
        ],
        [
         "6",
         "52000",
         "32000",
         "5",
         "1",
         "0"
        ],
        [
         "7",
         "72000",
         "19300",
         "6",
         "1",
         "0"
        ],
        [
         "8",
         "91000",
         "12000",
         "8",
         "1",
         "0"
        ],
        [
         "9",
         "67000",
         "22000",
         "6",
         "0",
         "1"
        ],
        [
         "10",
         "83000",
         "20000",
         "7",
         "0",
         "1"
        ],
        [
         "11",
         "79000",
         "21000",
         "7",
         "0",
         "1"
        ],
        [
         "12",
         "59000",
         "33000",
         "5",
         "0",
         "1"
        ]
       ],
       "shape": {
        "columns": 5,
        "rows": 13
       }
      },
      "text/html": [
       "<div>\n",
       "<style scoped>\n",
       "    .dataframe tbody tr th:only-of-type {\n",
       "        vertical-align: middle;\n",
       "    }\n",
       "\n",
       "    .dataframe tbody tr th {\n",
       "        vertical-align: top;\n",
       "    }\n",
       "\n",
       "    .dataframe thead th {\n",
       "        text-align: right;\n",
       "    }\n",
       "</style>\n",
       "<table border=\"1\" class=\"dataframe\">\n",
       "  <thead>\n",
       "    <tr style=\"text-align: right;\">\n",
       "      <th></th>\n",
       "      <th>Mileage</th>\n",
       "      <th>Sell Price($)</th>\n",
       "      <th>Age(yrs)</th>\n",
       "      <th>Audi A5</th>\n",
       "      <th>Mercedez Benz C class</th>\n",
       "    </tr>\n",
       "  </thead>\n",
       "  <tbody>\n",
       "    <tr>\n",
       "      <th>0</th>\n",
       "      <td>69000</td>\n",
       "      <td>18000</td>\n",
       "      <td>6</td>\n",
       "      <td>0</td>\n",
       "      <td>0</td>\n",
       "    </tr>\n",
       "    <tr>\n",
       "      <th>1</th>\n",
       "      <td>35000</td>\n",
       "      <td>34000</td>\n",
       "      <td>3</td>\n",
       "      <td>0</td>\n",
       "      <td>0</td>\n",
       "    </tr>\n",
       "    <tr>\n",
       "      <th>2</th>\n",
       "      <td>57000</td>\n",
       "      <td>26100</td>\n",
       "      <td>5</td>\n",
       "      <td>0</td>\n",
       "      <td>0</td>\n",
       "    </tr>\n",
       "    <tr>\n",
       "      <th>3</th>\n",
       "      <td>22500</td>\n",
       "      <td>40000</td>\n",
       "      <td>2</td>\n",
       "      <td>0</td>\n",
       "      <td>0</td>\n",
       "    </tr>\n",
       "    <tr>\n",
       "      <th>4</th>\n",
       "      <td>46000</td>\n",
       "      <td>31500</td>\n",
       "      <td>4</td>\n",
       "      <td>0</td>\n",
       "      <td>0</td>\n",
       "    </tr>\n",
       "    <tr>\n",
       "      <th>5</th>\n",
       "      <td>59000</td>\n",
       "      <td>29400</td>\n",
       "      <td>5</td>\n",
       "      <td>1</td>\n",
       "      <td>0</td>\n",
       "    </tr>\n",
       "    <tr>\n",
       "      <th>6</th>\n",
       "      <td>52000</td>\n",
       "      <td>32000</td>\n",
       "      <td>5</td>\n",
       "      <td>1</td>\n",
       "      <td>0</td>\n",
       "    </tr>\n",
       "    <tr>\n",
       "      <th>7</th>\n",
       "      <td>72000</td>\n",
       "      <td>19300</td>\n",
       "      <td>6</td>\n",
       "      <td>1</td>\n",
       "      <td>0</td>\n",
       "    </tr>\n",
       "    <tr>\n",
       "      <th>8</th>\n",
       "      <td>91000</td>\n",
       "      <td>12000</td>\n",
       "      <td>8</td>\n",
       "      <td>1</td>\n",
       "      <td>0</td>\n",
       "    </tr>\n",
       "    <tr>\n",
       "      <th>9</th>\n",
       "      <td>67000</td>\n",
       "      <td>22000</td>\n",
       "      <td>6</td>\n",
       "      <td>0</td>\n",
       "      <td>1</td>\n",
       "    </tr>\n",
       "    <tr>\n",
       "      <th>10</th>\n",
       "      <td>83000</td>\n",
       "      <td>20000</td>\n",
       "      <td>7</td>\n",
       "      <td>0</td>\n",
       "      <td>1</td>\n",
       "    </tr>\n",
       "    <tr>\n",
       "      <th>11</th>\n",
       "      <td>79000</td>\n",
       "      <td>21000</td>\n",
       "      <td>7</td>\n",
       "      <td>0</td>\n",
       "      <td>1</td>\n",
       "    </tr>\n",
       "    <tr>\n",
       "      <th>12</th>\n",
       "      <td>59000</td>\n",
       "      <td>33000</td>\n",
       "      <td>5</td>\n",
       "      <td>0</td>\n",
       "      <td>1</td>\n",
       "    </tr>\n",
       "  </tbody>\n",
       "</table>\n",
       "</div>"
      ],
      "text/plain": [
       "    Mileage  Sell Price($)  Age(yrs)  Audi A5  Mercedez Benz C class\n",
       "0     69000          18000         6        0                      0\n",
       "1     35000          34000         3        0                      0\n",
       "2     57000          26100         5        0                      0\n",
       "3     22500          40000         2        0                      0\n",
       "4     46000          31500         4        0                      0\n",
       "5     59000          29400         5        1                      0\n",
       "6     52000          32000         5        1                      0\n",
       "7     72000          19300         6        1                      0\n",
       "8     91000          12000         8        1                      0\n",
       "9     67000          22000         6        0                      1\n",
       "10    83000          20000         7        0                      1\n",
       "11    79000          21000         7        0                      1\n",
       "12    59000          33000         5        0                      1"
      ]
     },
     "execution_count": 97,
     "metadata": {},
     "output_type": "execute_result"
    }
   ],
   "source": [
    "df_dums.drop(['Car Model','BMW X5','Mileage_Age_Product'],axis='columns',inplace=True)\n",
    "df_dums"
   ]
  },
  {
   "cell_type": "code",
   "execution_count": 98,
   "id": "a3ea0e1a",
   "metadata": {},
   "outputs": [
    {
     "data": {
      "application/vnd.microsoft.datawrangler.viewer.v0+json": {
       "columns": [
        {
         "name": "index",
         "rawType": "int64",
         "type": "integer"
        },
        {
         "name": "Mileage",
         "rawType": "int64",
         "type": "integer"
        },
        {
         "name": "Age(yrs)",
         "rawType": "int64",
         "type": "integer"
        },
        {
         "name": "Audi A5",
         "rawType": "int32",
         "type": "integer"
        },
        {
         "name": "Mercedez Benz C class",
         "rawType": "int32",
         "type": "integer"
        }
       ],
       "ref": "308fe4bf-e876-494f-a7fa-f031be8707cb",
       "rows": [
        [
         "0",
         "69000",
         "6",
         "0",
         "0"
        ],
        [
         "1",
         "35000",
         "3",
         "0",
         "0"
        ],
        [
         "2",
         "57000",
         "5",
         "0",
         "0"
        ],
        [
         "3",
         "22500",
         "2",
         "0",
         "0"
        ],
        [
         "4",
         "46000",
         "4",
         "0",
         "0"
        ],
        [
         "5",
         "59000",
         "5",
         "1",
         "0"
        ],
        [
         "6",
         "52000",
         "5",
         "1",
         "0"
        ],
        [
         "7",
         "72000",
         "6",
         "1",
         "0"
        ],
        [
         "8",
         "91000",
         "8",
         "1",
         "0"
        ],
        [
         "9",
         "67000",
         "6",
         "0",
         "1"
        ],
        [
         "10",
         "83000",
         "7",
         "0",
         "1"
        ],
        [
         "11",
         "79000",
         "7",
         "0",
         "1"
        ],
        [
         "12",
         "59000",
         "5",
         "0",
         "1"
        ]
       ],
       "shape": {
        "columns": 4,
        "rows": 13
       }
      },
      "text/html": [
       "<div>\n",
       "<style scoped>\n",
       "    .dataframe tbody tr th:only-of-type {\n",
       "        vertical-align: middle;\n",
       "    }\n",
       "\n",
       "    .dataframe tbody tr th {\n",
       "        vertical-align: top;\n",
       "    }\n",
       "\n",
       "    .dataframe thead th {\n",
       "        text-align: right;\n",
       "    }\n",
       "</style>\n",
       "<table border=\"1\" class=\"dataframe\">\n",
       "  <thead>\n",
       "    <tr style=\"text-align: right;\">\n",
       "      <th></th>\n",
       "      <th>Mileage</th>\n",
       "      <th>Age(yrs)</th>\n",
       "      <th>Audi A5</th>\n",
       "      <th>Mercedez Benz C class</th>\n",
       "    </tr>\n",
       "  </thead>\n",
       "  <tbody>\n",
       "    <tr>\n",
       "      <th>0</th>\n",
       "      <td>69000</td>\n",
       "      <td>6</td>\n",
       "      <td>0</td>\n",
       "      <td>0</td>\n",
       "    </tr>\n",
       "    <tr>\n",
       "      <th>1</th>\n",
       "      <td>35000</td>\n",
       "      <td>3</td>\n",
       "      <td>0</td>\n",
       "      <td>0</td>\n",
       "    </tr>\n",
       "    <tr>\n",
       "      <th>2</th>\n",
       "      <td>57000</td>\n",
       "      <td>5</td>\n",
       "      <td>0</td>\n",
       "      <td>0</td>\n",
       "    </tr>\n",
       "    <tr>\n",
       "      <th>3</th>\n",
       "      <td>22500</td>\n",
       "      <td>2</td>\n",
       "      <td>0</td>\n",
       "      <td>0</td>\n",
       "    </tr>\n",
       "    <tr>\n",
       "      <th>4</th>\n",
       "      <td>46000</td>\n",
       "      <td>4</td>\n",
       "      <td>0</td>\n",
       "      <td>0</td>\n",
       "    </tr>\n",
       "    <tr>\n",
       "      <th>5</th>\n",
       "      <td>59000</td>\n",
       "      <td>5</td>\n",
       "      <td>1</td>\n",
       "      <td>0</td>\n",
       "    </tr>\n",
       "    <tr>\n",
       "      <th>6</th>\n",
       "      <td>52000</td>\n",
       "      <td>5</td>\n",
       "      <td>1</td>\n",
       "      <td>0</td>\n",
       "    </tr>\n",
       "    <tr>\n",
       "      <th>7</th>\n",
       "      <td>72000</td>\n",
       "      <td>6</td>\n",
       "      <td>1</td>\n",
       "      <td>0</td>\n",
       "    </tr>\n",
       "    <tr>\n",
       "      <th>8</th>\n",
       "      <td>91000</td>\n",
       "      <td>8</td>\n",
       "      <td>1</td>\n",
       "      <td>0</td>\n",
       "    </tr>\n",
       "    <tr>\n",
       "      <th>9</th>\n",
       "      <td>67000</td>\n",
       "      <td>6</td>\n",
       "      <td>0</td>\n",
       "      <td>1</td>\n",
       "    </tr>\n",
       "    <tr>\n",
       "      <th>10</th>\n",
       "      <td>83000</td>\n",
       "      <td>7</td>\n",
       "      <td>0</td>\n",
       "      <td>1</td>\n",
       "    </tr>\n",
       "    <tr>\n",
       "      <th>11</th>\n",
       "      <td>79000</td>\n",
       "      <td>7</td>\n",
       "      <td>0</td>\n",
       "      <td>1</td>\n",
       "    </tr>\n",
       "    <tr>\n",
       "      <th>12</th>\n",
       "      <td>59000</td>\n",
       "      <td>5</td>\n",
       "      <td>0</td>\n",
       "      <td>1</td>\n",
       "    </tr>\n",
       "  </tbody>\n",
       "</table>\n",
       "</div>"
      ],
      "text/plain": [
       "    Mileage  Age(yrs)  Audi A5  Mercedez Benz C class\n",
       "0     69000         6        0                      0\n",
       "1     35000         3        0                      0\n",
       "2     57000         5        0                      0\n",
       "3     22500         2        0                      0\n",
       "4     46000         4        0                      0\n",
       "5     59000         5        1                      0\n",
       "6     52000         5        1                      0\n",
       "7     72000         6        1                      0\n",
       "8     91000         8        1                      0\n",
       "9     67000         6        0                      1\n",
       "10    83000         7        0                      1\n",
       "11    79000         7        0                      1\n",
       "12    59000         5        0                      1"
      ]
     },
     "execution_count": 98,
     "metadata": {},
     "output_type": "execute_result"
    }
   ],
   "source": [
    "x=df_dums.drop(['Sell Price($)'],axis='columns')\n",
    "x"
   ]
  },
  {
   "cell_type": "code",
   "execution_count": 99,
   "id": "71339d1e",
   "metadata": {},
   "outputs": [
    {
     "data": {
      "application/vnd.microsoft.datawrangler.viewer.v0+json": {
       "columns": [
        {
         "name": "index",
         "rawType": "int64",
         "type": "integer"
        },
        {
         "name": "Sell Price($)",
         "rawType": "int64",
         "type": "integer"
        }
       ],
       "ref": "d67bad6e-648e-4651-8ded-a41c4b7bdba2",
       "rows": [
        [
         "0",
         "18000"
        ],
        [
         "1",
         "34000"
        ],
        [
         "2",
         "26100"
        ],
        [
         "3",
         "40000"
        ],
        [
         "4",
         "31500"
        ],
        [
         "5",
         "29400"
        ],
        [
         "6",
         "32000"
        ],
        [
         "7",
         "19300"
        ],
        [
         "8",
         "12000"
        ],
        [
         "9",
         "22000"
        ],
        [
         "10",
         "20000"
        ],
        [
         "11",
         "21000"
        ],
        [
         "12",
         "33000"
        ]
       ],
       "shape": {
        "columns": 1,
        "rows": 13
       }
      },
      "text/plain": [
       "0     18000\n",
       "1     34000\n",
       "2     26100\n",
       "3     40000\n",
       "4     31500\n",
       "5     29400\n",
       "6     32000\n",
       "7     19300\n",
       "8     12000\n",
       "9     22000\n",
       "10    20000\n",
       "11    21000\n",
       "12    33000\n",
       "Name: Sell Price($), dtype: int64"
      ]
     },
     "execution_count": 99,
     "metadata": {},
     "output_type": "execute_result"
    }
   ],
   "source": [
    "y=df_dums['Sell Price($)']\n",
    "y"
   ]
  },
  {
   "cell_type": "code",
   "execution_count": 100,
   "id": "0b3c4c85",
   "metadata": {},
   "outputs": [
    {
     "name": "stderr",
     "output_type": "stream",
     "text": [
      "c:\\Users\\adelz\\anaconda3\\Lib\\site-packages\\sklearn\\base.py:493: UserWarning: X does not have valid feature names, but LinearRegression was fitted with feature names\n",
      "  warnings.warn(\n"
     ]
    },
    {
     "data": {
      "text/plain": [
       "array([36991.31721031])"
      ]
     },
     "execution_count": 100,
     "metadata": {},
     "output_type": "execute_result"
    }
   ],
   "source": [
    "from sklearn import linear_model\n",
    "model=linear_model.LinearRegression()\n",
    "model.fit(x,y)\n",
    "model.predict([[45000,4,0,1]])"
   ]
  },
  {
   "cell_type": "code",
   "execution_count": 101,
   "id": "ddf90fb6",
   "metadata": {},
   "outputs": [
    {
     "data": {
      "text/plain": [
       "0.9417050937281083"
      ]
     },
     "execution_count": 101,
     "metadata": {},
     "output_type": "execute_result"
    }
   ],
   "source": [
    "model.score(x,y)"
   ]
  },
  {
   "cell_type": "markdown",
   "id": "797d1f04",
   "metadata": {},
   "source": [
    "Using sklearn OneHotEncodeing\n"
   ]
  },
  {
   "cell_type": "code",
   "execution_count": 105,
   "id": "bb125c08",
   "metadata": {},
   "outputs": [
    {
     "data": {
      "application/vnd.microsoft.datawrangler.viewer.v0+json": {
       "columns": [
        {
         "name": "index",
         "rawType": "int64",
         "type": "integer"
        },
        {
         "name": "Car Model",
         "rawType": "int32",
         "type": "integer"
        },
        {
         "name": "Mileage",
         "rawType": "int64",
         "type": "integer"
        },
        {
         "name": "Sell Price($)",
         "rawType": "int64",
         "type": "integer"
        },
        {
         "name": "Age(yrs)",
         "rawType": "int64",
         "type": "integer"
        }
       ],
       "ref": "fa7ef569-3711-43de-859d-9902fe79f5af",
       "rows": [
        [
         "0",
         "1",
         "69000",
         "18000",
         "6"
        ],
        [
         "1",
         "1",
         "35000",
         "34000",
         "3"
        ],
        [
         "2",
         "1",
         "57000",
         "26100",
         "5"
        ],
        [
         "3",
         "1",
         "22500",
         "40000",
         "2"
        ],
        [
         "4",
         "1",
         "46000",
         "31500",
         "4"
        ],
        [
         "5",
         "0",
         "59000",
         "29400",
         "5"
        ],
        [
         "6",
         "0",
         "52000",
         "32000",
         "5"
        ],
        [
         "7",
         "0",
         "72000",
         "19300",
         "6"
        ],
        [
         "8",
         "0",
         "91000",
         "12000",
         "8"
        ],
        [
         "9",
         "2",
         "67000",
         "22000",
         "6"
        ],
        [
         "10",
         "2",
         "83000",
         "20000",
         "7"
        ],
        [
         "11",
         "2",
         "79000",
         "21000",
         "7"
        ],
        [
         "12",
         "2",
         "59000",
         "33000",
         "5"
        ]
       ],
       "shape": {
        "columns": 4,
        "rows": 13
       }
      },
      "text/html": [
       "<div>\n",
       "<style scoped>\n",
       "    .dataframe tbody tr th:only-of-type {\n",
       "        vertical-align: middle;\n",
       "    }\n",
       "\n",
       "    .dataframe tbody tr th {\n",
       "        vertical-align: top;\n",
       "    }\n",
       "\n",
       "    .dataframe thead th {\n",
       "        text-align: right;\n",
       "    }\n",
       "</style>\n",
       "<table border=\"1\" class=\"dataframe\">\n",
       "  <thead>\n",
       "    <tr style=\"text-align: right;\">\n",
       "      <th></th>\n",
       "      <th>Car Model</th>\n",
       "      <th>Mileage</th>\n",
       "      <th>Sell Price($)</th>\n",
       "      <th>Age(yrs)</th>\n",
       "    </tr>\n",
       "  </thead>\n",
       "  <tbody>\n",
       "    <tr>\n",
       "      <th>0</th>\n",
       "      <td>1</td>\n",
       "      <td>69000</td>\n",
       "      <td>18000</td>\n",
       "      <td>6</td>\n",
       "    </tr>\n",
       "    <tr>\n",
       "      <th>1</th>\n",
       "      <td>1</td>\n",
       "      <td>35000</td>\n",
       "      <td>34000</td>\n",
       "      <td>3</td>\n",
       "    </tr>\n",
       "    <tr>\n",
       "      <th>2</th>\n",
       "      <td>1</td>\n",
       "      <td>57000</td>\n",
       "      <td>26100</td>\n",
       "      <td>5</td>\n",
       "    </tr>\n",
       "    <tr>\n",
       "      <th>3</th>\n",
       "      <td>1</td>\n",
       "      <td>22500</td>\n",
       "      <td>40000</td>\n",
       "      <td>2</td>\n",
       "    </tr>\n",
       "    <tr>\n",
       "      <th>4</th>\n",
       "      <td>1</td>\n",
       "      <td>46000</td>\n",
       "      <td>31500</td>\n",
       "      <td>4</td>\n",
       "    </tr>\n",
       "    <tr>\n",
       "      <th>5</th>\n",
       "      <td>0</td>\n",
       "      <td>59000</td>\n",
       "      <td>29400</td>\n",
       "      <td>5</td>\n",
       "    </tr>\n",
       "    <tr>\n",
       "      <th>6</th>\n",
       "      <td>0</td>\n",
       "      <td>52000</td>\n",
       "      <td>32000</td>\n",
       "      <td>5</td>\n",
       "    </tr>\n",
       "    <tr>\n",
       "      <th>7</th>\n",
       "      <td>0</td>\n",
       "      <td>72000</td>\n",
       "      <td>19300</td>\n",
       "      <td>6</td>\n",
       "    </tr>\n",
       "    <tr>\n",
       "      <th>8</th>\n",
       "      <td>0</td>\n",
       "      <td>91000</td>\n",
       "      <td>12000</td>\n",
       "      <td>8</td>\n",
       "    </tr>\n",
       "    <tr>\n",
       "      <th>9</th>\n",
       "      <td>2</td>\n",
       "      <td>67000</td>\n",
       "      <td>22000</td>\n",
       "      <td>6</td>\n",
       "    </tr>\n",
       "    <tr>\n",
       "      <th>10</th>\n",
       "      <td>2</td>\n",
       "      <td>83000</td>\n",
       "      <td>20000</td>\n",
       "      <td>7</td>\n",
       "    </tr>\n",
       "    <tr>\n",
       "      <th>11</th>\n",
       "      <td>2</td>\n",
       "      <td>79000</td>\n",
       "      <td>21000</td>\n",
       "      <td>7</td>\n",
       "    </tr>\n",
       "    <tr>\n",
       "      <th>12</th>\n",
       "      <td>2</td>\n",
       "      <td>59000</td>\n",
       "      <td>33000</td>\n",
       "      <td>5</td>\n",
       "    </tr>\n",
       "  </tbody>\n",
       "</table>\n",
       "</div>"
      ],
      "text/plain": [
       "    Car Model  Mileage  Sell Price($)  Age(yrs)\n",
       "0           1    69000          18000         6\n",
       "1           1    35000          34000         3\n",
       "2           1    57000          26100         5\n",
       "3           1    22500          40000         2\n",
       "4           1    46000          31500         4\n",
       "5           0    59000          29400         5\n",
       "6           0    52000          32000         5\n",
       "7           0    72000          19300         6\n",
       "8           0    91000          12000         8\n",
       "9           2    67000          22000         6\n",
       "10          2    83000          20000         7\n",
       "11          2    79000          21000         7\n",
       "12          2    59000          33000         5"
      ]
     },
     "execution_count": 105,
     "metadata": {},
     "output_type": "execute_result"
    }
   ],
   "source": [
    "from sklearn.preprocessing import LabelEncoder\n",
    "le=LabelEncoder()\n",
    "df=pd.read_csv('carprices.csv')\n",
    "dfle=df\n",
    "dfle['Car Model']=le.fit_transform(dfle['Car Model'])\n",
    "dfle\n"
   ]
  },
  {
   "cell_type": "code",
   "execution_count": 107,
   "id": "de3927dd",
   "metadata": {},
   "outputs": [
    {
     "data": {
      "text/plain": [
       "array([[    1, 69000,     6],\n",
       "       [    1, 35000,     3],\n",
       "       [    1, 57000,     5],\n",
       "       [    1, 22500,     2],\n",
       "       [    1, 46000,     4],\n",
       "       [    0, 59000,     5],\n",
       "       [    0, 52000,     5],\n",
       "       [    0, 72000,     6],\n",
       "       [    0, 91000,     8],\n",
       "       [    2, 67000,     6],\n",
       "       [    2, 83000,     7],\n",
       "       [    2, 79000,     7],\n",
       "       [    2, 59000,     5]], dtype=int64)"
      ]
     },
     "execution_count": 107,
     "metadata": {},
     "output_type": "execute_result"
    }
   ],
   "source": [
    "X=dfle.drop(['Sell Price($)'],axis='columns').values\n",
    "X"
   ]
  },
  {
   "cell_type": "code",
   "execution_count": 108,
   "id": "7e925590",
   "metadata": {},
   "outputs": [
    {
     "data": {
      "text/plain": [
       "array([18000, 34000, 26100, 40000, 31500, 29400, 32000, 19300, 12000,\n",
       "       22000, 20000, 21000, 33000], dtype=int64)"
      ]
     },
     "execution_count": 108,
     "metadata": {},
     "output_type": "execute_result"
    }
   ],
   "source": [
    "Y=dfle['Sell Price($)'].values\n",
    "Y"
   ]
  },
  {
   "cell_type": "code",
   "execution_count": 111,
   "id": "53ff2afd",
   "metadata": {},
   "outputs": [
    {
     "data": {
      "text/plain": [
       "array([[0.00e+00, 1.00e+00, 0.00e+00, 6.90e+04],\n",
       "       [0.00e+00, 1.00e+00, 0.00e+00, 3.50e+04],\n",
       "       [0.00e+00, 1.00e+00, 0.00e+00, 5.70e+04],\n",
       "       [0.00e+00, 1.00e+00, 0.00e+00, 2.25e+04],\n",
       "       [0.00e+00, 1.00e+00, 0.00e+00, 4.60e+04],\n",
       "       [1.00e+00, 0.00e+00, 0.00e+00, 5.90e+04],\n",
       "       [1.00e+00, 0.00e+00, 0.00e+00, 5.20e+04],\n",
       "       [1.00e+00, 0.00e+00, 0.00e+00, 7.20e+04],\n",
       "       [1.00e+00, 0.00e+00, 0.00e+00, 9.10e+04],\n",
       "       [0.00e+00, 0.00e+00, 1.00e+00, 6.70e+04],\n",
       "       [0.00e+00, 0.00e+00, 1.00e+00, 8.30e+04],\n",
       "       [0.00e+00, 0.00e+00, 1.00e+00, 7.90e+04],\n",
       "       [0.00e+00, 0.00e+00, 1.00e+00, 5.90e+04]])"
      ]
     },
     "execution_count": 111,
     "metadata": {},
     "output_type": "execute_result"
    }
   ],
   "source": [
    "from sklearn.preprocessing import OneHotEncoder\n",
    "import numpy as np\n",
    "\n",
    "\n",
    "ohe = OneHotEncoder(sparse_output=False, handle_unknown='ignore')\n",
    "\n",
    "car_model_Col=X[:,0].reshape(-1,1)\n",
    "\n",
    "Car_model_enc= ohe.fit_transform(car_model_Col)\n",
    "\n",
    "X= np.hstack([Car_model_enc,X[:,1].reshape(-1,1)])\n",
    "\n",
    "X"
   ]
  },
  {
   "cell_type": "code",
   "execution_count": 112,
   "id": "db3c98c8",
   "metadata": {},
   "outputs": [
    {
     "data": {
      "text/plain": [
       "array([[1.00e+00, 0.00e+00, 6.90e+04],\n",
       "       [1.00e+00, 0.00e+00, 3.50e+04],\n",
       "       [1.00e+00, 0.00e+00, 5.70e+04],\n",
       "       [1.00e+00, 0.00e+00, 2.25e+04],\n",
       "       [1.00e+00, 0.00e+00, 4.60e+04],\n",
       "       [0.00e+00, 0.00e+00, 5.90e+04],\n",
       "       [0.00e+00, 0.00e+00, 5.20e+04],\n",
       "       [0.00e+00, 0.00e+00, 7.20e+04],\n",
       "       [0.00e+00, 0.00e+00, 9.10e+04],\n",
       "       [0.00e+00, 1.00e+00, 6.70e+04],\n",
       "       [0.00e+00, 1.00e+00, 8.30e+04],\n",
       "       [0.00e+00, 1.00e+00, 7.90e+04],\n",
       "       [0.00e+00, 1.00e+00, 5.90e+04]])"
      ]
     },
     "execution_count": 112,
     "metadata": {},
     "output_type": "execute_result"
    }
   ],
   "source": [
    "X=X[:,1:]\n",
    "X"
   ]
  },
  {
   "cell_type": "code",
   "execution_count": 115,
   "id": "c215b6af",
   "metadata": {},
   "outputs": [
    {
     "data": {
      "text/plain": [
       "array([1.13199378e+08])"
      ]
     },
     "execution_count": 115,
     "metadata": {},
     "output_type": "execute_result"
    }
   ],
   "source": [
    "model.fit(X,Y)\n",
    "model.predict([[2,45000,4]])"
   ]
  }
 ],
 "metadata": {
  "kernelspec": {
   "display_name": "base",
   "language": "python",
   "name": "python3"
  },
  "language_info": {
   "codemirror_mode": {
    "name": "ipython",
    "version": 3
   },
   "file_extension": ".py",
   "mimetype": "text/x-python",
   "name": "python",
   "nbconvert_exporter": "python",
   "pygments_lexer": "ipython3",
   "version": "3.12.7"
  }
 },
 "nbformat": 4,
 "nbformat_minor": 5
}
