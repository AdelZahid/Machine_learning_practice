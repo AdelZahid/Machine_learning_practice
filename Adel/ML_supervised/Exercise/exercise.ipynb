{
 "cells": [
  {
   "cell_type": "markdown",
   "id": "3a328090",
   "metadata": {},
   "source": [
    "Multivarient_Logistic_regression\n",
    "where we need to predict the selaray of a candidate\n"
   ]
  },
  {
   "cell_type": "code",
   "execution_count": 29,
   "id": "df2557b3",
   "metadata": {},
   "outputs": [
    {
     "data": {
      "application/vnd.microsoft.datawrangler.viewer.v0+json": {
       "columns": [
        {
         "name": "index",
         "rawType": "int64",
         "type": "integer"
        },
        {
         "name": "experience",
         "rawType": "object",
         "type": "unknown"
        },
        {
         "name": "test_score(out of 10)",
         "rawType": "float64",
         "type": "float"
        },
        {
         "name": "interview_score(out of 10)",
         "rawType": "int64",
         "type": "integer"
        },
        {
         "name": "salary($)",
         "rawType": "int64",
         "type": "integer"
        }
       ],
       "ref": "9dcd989c-17de-4727-b27d-9dbecd7015c9",
       "rows": [
        [
         "0",
         null,
         "8.0",
         "9",
         "50000"
        ],
        [
         "1",
         null,
         "8.0",
         "6",
         "45000"
        ],
        [
         "2",
         "five",
         "6.0",
         "7",
         "60000"
        ],
        [
         "3",
         "two",
         "10.0",
         "10",
         "65000"
        ],
        [
         "4",
         "seven",
         "9.0",
         "6",
         "70000"
        ],
        [
         "5",
         "three",
         "7.0",
         "10",
         "62000"
        ],
        [
         "6",
         "ten",
         null,
         "7",
         "72000"
        ],
        [
         "7",
         "eleven",
         "7.0",
         "8",
         "80000"
        ]
       ],
       "shape": {
        "columns": 4,
        "rows": 8
       }
      },
      "text/html": [
       "<div>\n",
       "<style scoped>\n",
       "    .dataframe tbody tr th:only-of-type {\n",
       "        vertical-align: middle;\n",
       "    }\n",
       "\n",
       "    .dataframe tbody tr th {\n",
       "        vertical-align: top;\n",
       "    }\n",
       "\n",
       "    .dataframe thead th {\n",
       "        text-align: right;\n",
       "    }\n",
       "</style>\n",
       "<table border=\"1\" class=\"dataframe\">\n",
       "  <thead>\n",
       "    <tr style=\"text-align: right;\">\n",
       "      <th></th>\n",
       "      <th>experience</th>\n",
       "      <th>test_score(out of 10)</th>\n",
       "      <th>interview_score(out of 10)</th>\n",
       "      <th>salary($)</th>\n",
       "    </tr>\n",
       "  </thead>\n",
       "  <tbody>\n",
       "    <tr>\n",
       "      <th>0</th>\n",
       "      <td>NaN</td>\n",
       "      <td>8.0</td>\n",
       "      <td>9</td>\n",
       "      <td>50000</td>\n",
       "    </tr>\n",
       "    <tr>\n",
       "      <th>1</th>\n",
       "      <td>NaN</td>\n",
       "      <td>8.0</td>\n",
       "      <td>6</td>\n",
       "      <td>45000</td>\n",
       "    </tr>\n",
       "    <tr>\n",
       "      <th>2</th>\n",
       "      <td>five</td>\n",
       "      <td>6.0</td>\n",
       "      <td>7</td>\n",
       "      <td>60000</td>\n",
       "    </tr>\n",
       "    <tr>\n",
       "      <th>3</th>\n",
       "      <td>two</td>\n",
       "      <td>10.0</td>\n",
       "      <td>10</td>\n",
       "      <td>65000</td>\n",
       "    </tr>\n",
       "    <tr>\n",
       "      <th>4</th>\n",
       "      <td>seven</td>\n",
       "      <td>9.0</td>\n",
       "      <td>6</td>\n",
       "      <td>70000</td>\n",
       "    </tr>\n",
       "    <tr>\n",
       "      <th>5</th>\n",
       "      <td>three</td>\n",
       "      <td>7.0</td>\n",
       "      <td>10</td>\n",
       "      <td>62000</td>\n",
       "    </tr>\n",
       "    <tr>\n",
       "      <th>6</th>\n",
       "      <td>ten</td>\n",
       "      <td>NaN</td>\n",
       "      <td>7</td>\n",
       "      <td>72000</td>\n",
       "    </tr>\n",
       "    <tr>\n",
       "      <th>7</th>\n",
       "      <td>eleven</td>\n",
       "      <td>7.0</td>\n",
       "      <td>8</td>\n",
       "      <td>80000</td>\n",
       "    </tr>\n",
       "  </tbody>\n",
       "</table>\n",
       "</div>"
      ],
      "text/plain": [
       "  experience  test_score(out of 10)  interview_score(out of 10)  salary($)\n",
       "0        NaN                    8.0                           9      50000\n",
       "1        NaN                    8.0                           6      45000\n",
       "2       five                    6.0                           7      60000\n",
       "3        two                   10.0                          10      65000\n",
       "4      seven                    9.0                           6      70000\n",
       "5      three                    7.0                          10      62000\n",
       "6        ten                    NaN                           7      72000\n",
       "7     eleven                    7.0                           8      80000"
      ]
     },
     "execution_count": 29,
     "metadata": {},
     "output_type": "execute_result"
    }
   ],
   "source": [
    "import pandas as pd\n",
    "import numpy as np\n",
    "from sklearn import linear_model\n",
    "import math\n",
    "\n",
    "df=pd.read_csv(\"hiring.csv\")\n",
    "df"
   ]
  },
  {
   "cell_type": "code",
   "execution_count": 42,
   "id": "cd56fa23",
   "metadata": {},
   "outputs": [
    {
     "name": "stdout",
     "output_type": "stream",
     "text": [
      "   experience  test_score(out of 10)  interview_score(out of 10)  salary($)\n",
      "0           0                    8.0                           9      50000\n",
      "1           0                    8.0                           6      45000\n",
      "2           5                    6.0                           7      60000\n",
      "3           2                   10.0                          10      65000\n",
      "4           7                    9.0                           6      70000\n",
      "5           3                    7.0                          10      62000\n",
      "6          10                    NaN                           7      72000\n",
      "7          11                    7.0                           8      80000\n"
     ]
    }
   ],
   "source": [
    "# Function to convert text to integer\n",
    "def text_to_int(text):\n",
    "    if pd.isna(text) or text == '':\n",
    "        return 0  # Handle missing or empty values\n",
    "    text = text.strip().lower()\n",
    "    # Dictionary for direct mapping of common number words\n",
    "    number_map = {\n",
    "        'one': 1, 'two': 2, 'three': 3, 'four': 4,\n",
    "        'five': 5, 'six': 6, 'seven': 7, 'eight': 8, 'nine': 9,\n",
    "        'ten': 10, 'eleven': 11, 'twelve': 12\n",
    "    }\n",
    "    if text in number_map:\n",
    "        return number_map[text]\n",
    "    try:\n",
    "        # Try converting directly if it's already a number\n",
    "        return int(text)\n",
    "    except ValueError:\n",
    "        return 0   # Default for unparseable values\n",
    "\n",
    "# Read the CSV file\n",
    "df = pd.read_csv('hiring.csv')\n",
    "\n",
    "# Apply the conversion to the experience column\n",
    "df['experience'] = df['experience'].apply(text_to_int)\n",
    "\n",
    "# Save the updated CSV\n",
    "df.to_csv('hiring_updated.csv', index=False)\n",
    "\n",
    "# Display the updated DataFrame\n",
    "print(df)"
   ]
  },
  {
   "cell_type": "code",
   "execution_count": 43,
   "id": "547bd45e",
   "metadata": {},
   "outputs": [
    {
     "name": "stdout",
     "output_type": "stream",
     "text": [
      "4.75\n",
      "Median of test_score(out of 10): 7.857142857142857\n"
     ]
    },
    {
     "data": {
      "application/vnd.microsoft.datawrangler.viewer.v0+json": {
       "columns": [
        {
         "name": "index",
         "rawType": "int64",
         "type": "integer"
        },
        {
         "name": "experience",
         "rawType": "int64",
         "type": "integer"
        },
        {
         "name": "test_score(out of 10)",
         "rawType": "float64",
         "type": "float"
        },
        {
         "name": "interview_score(out of 10)",
         "rawType": "int64",
         "type": "integer"
        },
        {
         "name": "salary($)",
         "rawType": "int64",
         "type": "integer"
        }
       ],
       "ref": "941d4365-bef2-4d4a-bc5f-b5d153b25d0b",
       "rows": [
        [
         "0",
         "0",
         "8.0",
         "9",
         "50000"
        ],
        [
         "1",
         "0",
         "8.0",
         "6",
         "45000"
        ],
        [
         "2",
         "5",
         "6.0",
         "7",
         "60000"
        ],
        [
         "3",
         "2",
         "10.0",
         "10",
         "65000"
        ],
        [
         "4",
         "7",
         "9.0",
         "6",
         "70000"
        ],
        [
         "5",
         "3",
         "7.0",
         "10",
         "62000"
        ],
        [
         "6",
         "10",
         "7.857142857142857",
         "7",
         "72000"
        ],
        [
         "7",
         "11",
         "7.0",
         "8",
         "80000"
        ]
       ],
       "shape": {
        "columns": 4,
        "rows": 8
       }
      },
      "text/html": [
       "<div>\n",
       "<style scoped>\n",
       "    .dataframe tbody tr th:only-of-type {\n",
       "        vertical-align: middle;\n",
       "    }\n",
       "\n",
       "    .dataframe tbody tr th {\n",
       "        vertical-align: top;\n",
       "    }\n",
       "\n",
       "    .dataframe thead th {\n",
       "        text-align: right;\n",
       "    }\n",
       "</style>\n",
       "<table border=\"1\" class=\"dataframe\">\n",
       "  <thead>\n",
       "    <tr style=\"text-align: right;\">\n",
       "      <th></th>\n",
       "      <th>experience</th>\n",
       "      <th>test_score(out of 10)</th>\n",
       "      <th>interview_score(out of 10)</th>\n",
       "      <th>salary($)</th>\n",
       "    </tr>\n",
       "  </thead>\n",
       "  <tbody>\n",
       "    <tr>\n",
       "      <th>0</th>\n",
       "      <td>0</td>\n",
       "      <td>8.000000</td>\n",
       "      <td>9</td>\n",
       "      <td>50000</td>\n",
       "    </tr>\n",
       "    <tr>\n",
       "      <th>1</th>\n",
       "      <td>0</td>\n",
       "      <td>8.000000</td>\n",
       "      <td>6</td>\n",
       "      <td>45000</td>\n",
       "    </tr>\n",
       "    <tr>\n",
       "      <th>2</th>\n",
       "      <td>5</td>\n",
       "      <td>6.000000</td>\n",
       "      <td>7</td>\n",
       "      <td>60000</td>\n",
       "    </tr>\n",
       "    <tr>\n",
       "      <th>3</th>\n",
       "      <td>2</td>\n",
       "      <td>10.000000</td>\n",
       "      <td>10</td>\n",
       "      <td>65000</td>\n",
       "    </tr>\n",
       "    <tr>\n",
       "      <th>4</th>\n",
       "      <td>7</td>\n",
       "      <td>9.000000</td>\n",
       "      <td>6</td>\n",
       "      <td>70000</td>\n",
       "    </tr>\n",
       "    <tr>\n",
       "      <th>5</th>\n",
       "      <td>3</td>\n",
       "      <td>7.000000</td>\n",
       "      <td>10</td>\n",
       "      <td>62000</td>\n",
       "    </tr>\n",
       "    <tr>\n",
       "      <th>6</th>\n",
       "      <td>10</td>\n",
       "      <td>7.857143</td>\n",
       "      <td>7</td>\n",
       "      <td>72000</td>\n",
       "    </tr>\n",
       "    <tr>\n",
       "      <th>7</th>\n",
       "      <td>11</td>\n",
       "      <td>7.000000</td>\n",
       "      <td>8</td>\n",
       "      <td>80000</td>\n",
       "    </tr>\n",
       "  </tbody>\n",
       "</table>\n",
       "</div>"
      ],
      "text/plain": [
       "   experience  test_score(out of 10)  interview_score(out of 10)  salary($)\n",
       "0           0               8.000000                           9      50000\n",
       "1           0               8.000000                           6      45000\n",
       "2           5               6.000000                           7      60000\n",
       "3           2              10.000000                          10      65000\n",
       "4           7               9.000000                           6      70000\n",
       "5           3               7.000000                          10      62000\n",
       "6          10               7.857143                           7      72000\n",
       "7          11               7.000000                           8      80000"
      ]
     },
     "execution_count": 43,
     "metadata": {},
     "output_type": "execute_result"
    }
   ],
   "source": [
    "medn=df.experience.mean()\n",
    "print(medn)\n",
    "df.experience = df.experience.fillna(medn)\n",
    "\n",
    "# Calculate median for test_score(out of 10) and fill missing values\n",
    "test_score_median = df['test_score(out of 10)'].mean()\n",
    "print(f\"Median of test_score(out of 10): {test_score_median}\")\n",
    "df['test_score(out of 10)'] = df['test_score(out of 10)'].fillna(test_score_median)\n",
    "df\n"
   ]
  },
  {
   "cell_type": "code",
   "execution_count": 45,
   "id": "c878f347",
   "metadata": {},
   "outputs": [
    {
     "name": "stderr",
     "output_type": "stream",
     "text": [
      "c:\\Users\\adelz\\anaconda3\\Lib\\site-packages\\sklearn\\base.py:493: UserWarning: X does not have valid feature names, but LinearRegression was fitted with feature names\n",
      "  warnings.warn(\n"
     ]
    },
    {
     "data": {
      "text/plain": [
       "array([53290.89255945])"
      ]
     },
     "execution_count": 45,
     "metadata": {},
     "output_type": "execute_result"
    }
   ],
   "source": [
    "model=linear_model.LinearRegression()\n",
    "model.fit(df.drop('salary($)',axis='columns'),df['salary($)'])\n",
    "model.predict([[2,9,6]])\n"
   ]
  }
 ],
 "metadata": {
  "kernelspec": {
   "display_name": "base",
   "language": "python",
   "name": "python3"
  },
  "language_info": {
   "codemirror_mode": {
    "name": "ipython",
    "version": 3
   },
   "file_extension": ".py",
   "mimetype": "text/x-python",
   "name": "python",
   "nbconvert_exporter": "python",
   "pygments_lexer": "ipython3",
   "version": "3.12.7"
  }
 },
 "nbformat": 4,
 "nbformat_minor": 5
}
